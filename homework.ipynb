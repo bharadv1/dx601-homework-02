{
  "cells": [
    {
      "cell_type": "markdown",
      "metadata": {
        "id": "89zMdjSEOSCO"
      },
      "source": [
        "# DX 601 Week 2 Homework\n",
        "\n",
        "\n"
      ]
    },
    {
      "cell_type": "markdown",
      "metadata": {
        "id": "OBgYzKx5dSII"
      },
      "source": [
        "## Introduction\n",
        "\n",
        "In this homework, you will practice calculating the statistics and sampling techniques covered this week.\n",
        "\n",
        "If you are not familiar with Python and are not taking module 2 concurrently, then we strongly recommend reading a few chapters of [A Whirlwind Tour of Python](https://jakevdp.github.io/WhirlwindTourOfPython/) before starting.\n",
        "Chapter 5 covers basic expressions that you will need to implement most math formulas, and Chapter 9, particularly the first two sections, covers writing your own functions.\n",
        "\n",
        "You may find it helpful to refer to these GitHub repositories of Jupyter notebooks for sample code.\n",
        "\n",
        "* https://github.com/bu-cds-omds/dx500-examples\n",
        "* https://github.com/bu-cds-omds/dx601-examples\n",
        "* https://github.com/bu-cds-omds/dx602-examples\n",
        "\n",
        "Any calculations demonstrated in code examples or videos may be found in these notebooks, and you are allowed to copy this example code in your homework answers."
      ]
    },
    {
      "cell_type": "markdown",
      "metadata": {
        "id": "Nqx7qypdH_6m"
      },
      "source": [
        "## Instructions\n",
        "\n",
        "You should replace every instance of \"...\" below.\n",
        "These are where you are expected to write code to answer each problem.\n",
        "\n",
        "Be sure to run each code block after you edit it to make sure it runs as expected.\n",
        "When you are done, we strongly recommend you run all the code from scratch (Runtime menu -> Restart and Run all) to make sure your current code works for all problems.\n",
        "\n",
        "If your code raises an exception when run from scratch, it will  interfere with the auto-grader process causing you to lose some or all points for this homework.\n",
        "Please ask for help in YellowDig or schedule an appointment with a learning facilitator if you get stuck.\n"
      ]
    },
    {
      "cell_type": "markdown",
      "metadata": {
        "id": "NKkiNYDZckt-"
      },
      "source": [
        "### Submission\n",
        "\n",
        "To submit your homework, take the following steps.\n",
        "\n",
        "1. Save and commit this notebook.\n",
        "2. Push your changes to GitHub.\n",
        "3. Confirm that your changes are visible in GitHub.\n",
        "4. Delete the codespace to avoid wasting your free quota.\n",
        "\n",
        "The auto-grading process usually completes within a few minutes of pushing to GitHub, but occasionally can take several minutes to an hour.\n",
        "If you submit your homework early enough, you may review the auto-grading results and fix any mistakes before the deadline.\n"
      ]
    },
    {
      "cell_type": "markdown",
      "metadata": {},
      "source": [
        "## Shared Imports\n",
        "\n",
        "Do not install or use any additional modules.\n",
        "Installing additional modules may result in an autograder failure resulting in zero points for some or all problems."
      ]
    },
    {
      "cell_type": "code",
      "execution_count": 1,
      "metadata": {},
      "outputs": [],
      "source": [
        "import random"
      ]
    },
    {
      "cell_type": "code",
      "execution_count": 2,
      "metadata": {},
      "outputs": [],
      "source": [
        "import matplotlib.pyplot as plt"
      ]
    },
    {
      "cell_type": "code",
      "execution_count": 3,
      "metadata": {},
      "outputs": [],
      "source": [
        "import numpy as np"
      ]
    },
    {
      "cell_type": "code",
      "execution_count": 4,
      "metadata": {},
      "outputs": [],
      "source": [
        "import pandas as pd"
      ]
    },
    {
      "cell_type": "markdown",
      "metadata": {
        "id": "a5qljmVMc_yb"
      },
      "source": [
        "## Problems\n"
      ]
    },
    {
      "cell_type": "markdown",
      "metadata": {
        "id": "tWHA1G_yg1LB"
      },
      "source": [
        "### Problem 1\n",
        "\n",
        "Set `p1` to the sum of values in `q1` using the sum function.\n",
        "\n",
        "https://docs.python.org/3/library/functions.html#sum"
      ]
    },
    {
      "cell_type": "code",
      "execution_count": 5,
      "metadata": {
        "id": "OIIMvUvOg5-D"
      },
      "outputs": [],
      "source": [
        "q1 = [3, 97, 20, 84, 3, 80, 63, 15, 30, 80, 95, 18, 61, 71, 78, 21, 10, 68, 31, 78, 41, 98, 58, 79, 20, 70, 63, 75, 34, 77, 89, 43, 24, 77, 69, 22, 36, 11, 18, 5, 29, 3, 98, 70, 20, 27, 57, 48, 27, 92, 86, 37, 81, 82, 29, 67, 20, 54, 91, 77, 31, 69, 6, 56, 17, 90, 61, 47, 78, 6, 61, 62, 21, 70, 88, 90, 30, 39, 64, 84, 73, 32, 50, 63, 56, 76, 92, 59, 14, 23, 98, 44, 22, 58, 38, 49, 79, 64, 44, 12]"
      ]
    },
    {
      "cell_type": "code",
      "execution_count": 6,
      "metadata": {
        "id": "epbHmy_mg7W1"
      },
      "outputs": [],
      "source": [
        "# YOUR CHANGES HERE\n",
        "\n",
        "p1 = sum(q1)"
      ]
    },
    {
      "cell_type": "code",
      "execution_count": 7,
      "metadata": {
        "id": "hOJZhHLhg-1v"
      },
      "outputs": [
        {
          "data": {
            "text/plain": [
              "5226"
            ]
          },
          "execution_count": 7,
          "metadata": {},
          "output_type": "execute_result"
        }
      ],
      "source": [
        "p1"
      ]
    },
    {
      "cell_type": "markdown",
      "metadata": {
        "id": "J7y40i7mgpYA"
      },
      "source": [
        "### Problem 2\n",
        "\n",
        "Set `p2` to the number of values in `q2` using the len function.\n",
        "\n",
        "https://docs.python.org/3/library/functions.html#len"
      ]
    },
    {
      "cell_type": "code",
      "execution_count": 8,
      "metadata": {
        "id": "icwzZLgFgtdz"
      },
      "outputs": [],
      "source": [
        "q2 = [31, 63, 30, 74, 81, 26, 84, 76, 39, 61, 4, 74, 48, 52, 65, 21, 1, 58, 22, 98, 92, 8, 21, 43, 23, 90, 1, 56, 75, 80, 71, 17, 12, 4, 77, 85, 64, 19, 20, 52, 11, 19, 25, 7, 72, 55, 26, 16, 16, 33, 20, 99, 27, 37, 52, 21, 35, 64, 69, 34, 71, 25, 92, 73, 10, 23, 57, 62, 16, 30, 83, 74, 11, 40, 78, 52, 39, 23, 16, 41, 57, 87, 90, 9, 96, 92, 32, 35, 7, 92, 69, 70, 18, 11, 74, 43, 29, 57, 68, 27]"
      ]
    },
    {
      "cell_type": "code",
      "execution_count": 9,
      "metadata": {
        "id": "MMXCBgQQgwC5"
      },
      "outputs": [],
      "source": [
        "# YOUR CHANGES HERE\n",
        "\n",
        "p2 = len(q2)"
      ]
    },
    {
      "cell_type": "code",
      "execution_count": 10,
      "metadata": {
        "id": "QJ76_9Fpgy3t"
      },
      "outputs": [
        {
          "data": {
            "text/plain": [
              "100"
            ]
          },
          "execution_count": 10,
          "metadata": {},
          "output_type": "execute_result"
        }
      ],
      "source": [
        "p2"
      ]
    },
    {
      "cell_type": "markdown",
      "metadata": {
        "id": "c02tVt-pge6d"
      },
      "source": [
        "### Problem 3\n",
        "\n",
        "Set `p3` to the mean of the values in `q3`.\n",
        "Please do this calculation without using any libraries such as NumPy."
      ]
    },
    {
      "cell_type": "code",
      "execution_count": 11,
      "metadata": {
        "id": "RifOrv8Qgiy-"
      },
      "outputs": [],
      "source": [
        "q3 = [19, 18, 0, 10, 85, 74, 36, 53, 62, 87, 5, 49, 90, 17, 8, 51, 36, 90, 97, 89, 81, 34, 23, 34, 88, 28, 32, 70, 28, 46, 98, 1, 54, 40, 99, 9, 41, 14, 8, 26, 7, 78, 47, 95, 74, 28, 65, 29, 36, 77, 96, 33, 26, 13, 47, 74, 0, 79, 59, 52, 57, 7, 53, 3, 52, 20, 49, 71, 44, 12, 72, 39, 34, 15, 90, 88, 73, 42, 14, 6, 20, 93, 29, 34, 5, 5, 1, 14, 62, 10, 46, 38, 95, 63, 94, 70, 82, 74, 12, 61]"
      ]
    },
    {
      "cell_type": "code",
      "execution_count": 13,
      "metadata": {
        "id": "sS1FiwWagjhC"
      },
      "outputs": [],
      "source": [
        "# YOUR CHANGES HERE\n",
        "\n",
        "p3 = sum(q3)/len(q3)"
      ]
    },
    {
      "cell_type": "code",
      "execution_count": 14,
      "metadata": {
        "id": "zH8TWkDegmiz"
      },
      "outputs": [
        {
          "data": {
            "text/plain": [
              "45.94"
            ]
          },
          "execution_count": 14,
          "metadata": {},
          "output_type": "execute_result"
        }
      ],
      "source": [
        "p3"
      ]
    },
    {
      "cell_type": "markdown",
      "metadata": {
        "id": "PE-iUPP2gZWs"
      },
      "source": [
        "### Problem 4\n",
        "\n",
        "Set `p4` to the sample variance of the values in `q4`.\n",
        "Please do this calculation without using any libraries such as NumPy, and make sure to adjust your formula for the sample variance."
      ]
    },
    {
      "cell_type": "code",
      "execution_count": 15,
      "metadata": {
        "id": "WxlCRPBjgb3I"
      },
      "outputs": [],
      "source": [
        "q4 = [97, 62, 52, 41, 83, 61, 50, 42, 20, 56, 23, 91, 73, 82, 11, 73, 32, 51, 88, 68, 73, 44, 74, 71, 80, 47, 8, 60, 89, 91, 33, 42, 25, 58, 62, 37, 57, 11, 5, 75, 61, 9, 37, 31, 46, 75, 44, 11, 0, 59, 3, 66, 91, 81, 22, 20, 10, 31, 38, 45, 9, 29, 80, 11, 13, 15, 15, 98, 81, 59, 25, 98, 86, 56, 77, 38, 94, 26, 66, 32, 13, 6, 65, 20, 30, 36, 10, 82, 74, 51, 35, 50, 4, 25, 62, 89, 43, 78, 31, 79]"
      ]
    },
    {
      "cell_type": "code",
      "execution_count": 16,
      "metadata": {
        "id": "FAPOdtGigcvw"
      },
      "outputs": [],
      "source": [
        "# YOUR CHANGES HERE\n",
        "\n",
        "p4 = sum((x-(sum(q4)/len(q4))) ** 2 for x in q4) / (len(q4) - 1)"
      ]
    },
    {
      "cell_type": "code",
      "execution_count": 17,
      "metadata": {
        "id": "KXwMDAwqgdw1"
      },
      "outputs": [
        {
          "data": {
            "text/plain": [
              "773.4685858585858"
            ]
          },
          "execution_count": 17,
          "metadata": {},
          "output_type": "execute_result"
        }
      ],
      "source": [
        "p4"
      ]
    },
    {
      "cell_type": "markdown",
      "metadata": {
        "id": "hnpoGTnef2Sb"
      },
      "source": [
        "### Problem 5\n",
        "\n",
        "The following code loads a dataset `q5` with color samples drawn from red, green, and blue.\n",
        "Plot a histogram of these samples grouped by color using `plt.hist` and save the result as `p5`."
      ]
    },
    {
      "cell_type": "code",
      "execution_count": 69,
      "metadata": {
        "id": "uVG9VIc1f-uk"
      },
      "outputs": [],
      "source": [
        "q5 = ['red', 'green', 'green', 'blue', 'blue', 'red', 'blue', 'blue', 'red', 'blue', 'red', 'blue', 'red', 'blue', 'red', 'green', 'blue', 'red', 'red', 'green', 'green', 'green', 'green', 'green', 'blue', 'green', 'blue', 'green', 'red', 'blue', 'blue', 'blue', 'green', 'blue', 'red', 'blue', 'green', 'red', 'blue', 'red', 'blue', 'blue', 'green', 'red', 'red', 'green', 'green', 'green', 'red', 'red', 'blue', 'blue', 'red', 'red', 'green', 'green', 'blue', 'blue', 'green', 'green', 'green', 'blue', 'blue', 'green', 'blue', 'red', 'green', 'green', 'green', 'red', 'red', 'blue', 'green', 'blue', 'green', 'blue', 'red', 'blue', 'green', 'green', 'red', 'red', 'blue', 'blue', 'blue', 'red', 'red', 'red', 'blue', 'green', 'green', 'red', 'green', 'red', 'blue', 'blue', 'blue', 'blue', 'green', 'red']"
      ]
    },
    {
      "cell_type": "code",
      "execution_count": 70,
      "metadata": {
        "id": "fAP4RqmygBFl"
      },
      "outputs": [
        {
          "data": {
            "image/png": "[encoded data removed]",
            "text/plain": [
              "<Figure size 640x480 with 1 Axes>"
            ]
          },
          "metadata": {},
          "output_type": "display_data"
        }
      ],
      "source": [
        "# YOUR CHANGES HERE\n",
        "\n",
        "p5 = plt.hist(q5, bins=['red', 'green', 'blue'])"
      ]
    },
    {
      "cell_type": "code",
      "execution_count": 71,
      "metadata": {
        "id": "7OIyrYpfgWXB"
      },
      "outputs": [
        {
          "data": {
            "text/plain": [
              "(array([30., 70.]), array([0., 1., 2.]), <BarContainer object of 2 artists>)"
            ]
          },
          "execution_count": 71,
          "metadata": {},
          "output_type": "execute_result"
        }
      ],
      "source": [
        "p5"
      ]
    },
    {
      "cell_type": "markdown",
      "metadata": {
        "id": "O_zzuxOkfNlu"
      },
      "source": [
        "### Problem 6\n",
        "\n",
        "The function `s6` returns a bootstrap sample of `q6`.\n",
        "You can call it repeatedly to see different samples by rerunning the cell.\n",
        "Set p6 to the color which is most likely to be left out?\n",
        "q6 is a dataset of strings, so p6 should be a string.\n",
        "You should be able to figure this out just examining `q6`, but it may help to review several samples using `s6`."
      ]
    },
    {
      "cell_type": "code",
      "execution_count": 22,
      "metadata": {
        "id": "o-uHZQdgfR4f"
      },
      "outputs": [],
      "source": [
        "q6 = ['blue', 'green', 'blue', 'green', 'red', 'green', 'green', 'green', 'red', 'blue']"
      ]
    },
    {
      "cell_type": "code",
      "execution_count": 23,
      "metadata": {
        "id": "FjmWPcvBfstp"
      },
      "outputs": [],
      "source": [
        "def s6():\n",
        "    return random.choices(q6, k=len(q6))"
      ]
    },
    {
      "cell_type": "code",
      "execution_count": 28,
      "metadata": {
        "id": "17DvB9kSfvKQ"
      },
      "outputs": [
        {
          "data": {
            "text/plain": [
              "['green',\n",
              " 'green',\n",
              " 'red',\n",
              " 'blue',\n",
              " 'red',\n",
              " 'green',\n",
              " 'green',\n",
              " 'red',\n",
              " 'blue',\n",
              " 'green']"
            ]
          },
          "execution_count": 28,
          "metadata": {},
          "output_type": "execute_result"
        }
      ],
      "source": [
        "s6()"
      ]
    },
    {
      "cell_type": "code",
      "execution_count": 25,
      "metadata": {
        "id": "JLQcwuzEftpY"
      },
      "outputs": [],
      "source": [
        "# YOUR CHANGES HERE\n",
        "\n",
        "p6 = \"red\""
      ]
    },
    {
      "cell_type": "code",
      "execution_count": 26,
      "metadata": {
        "id": "MVd2DdE1fzRv"
      },
      "outputs": [
        {
          "data": {
            "text/plain": [
              "'red'"
            ]
          },
          "execution_count": 26,
          "metadata": {},
          "output_type": "execute_result"
        }
      ],
      "source": [
        "p6"
      ]
    },
    {
      "cell_type": "markdown",
      "metadata": {
        "id": "ziE-GGmYfAw4"
      },
      "source": [
        "### Problem 7\n",
        "\n",
        "Set `p7` to be the mean of the values in `q7` using NumPy."
      ]
    },
    {
      "cell_type": "code",
      "execution_count": 29,
      "metadata": {
        "id": "WeLj-hFRfDs6"
      },
      "outputs": [],
      "source": [
        "q7 = [1.9, 4.7, 0.9, 4.9, 5.0, 4.1, 5.8, 5.8, 7.2, 8.9, 2.9, 4.2, 7.0, 6.6, 1.4, 3.1, 9.9, 8.7, 2.5, 5.1, 4.5, 9.6, 9.6, 7.3, 0.7, 5.4, 6.5, 1.8, 8.5, 0.9, 0.3, 6.3, 5.2, 5.7, 7.4, 3.6, 1.0, 4.8, 8.0, 9.6, 9.8, 3.5, 7.1, 2.7, 6.0, 8.8, 8.5, 9.2, 6.5, 6.7, 5.0, 2.1, 7.1, 3.4, 1.0, 8.7, 4.1, 3.8, 6.3, 2.2, 5.6, 9.0, 8.2, 9.1, 2.0, 3.2, 2.0, 9.0, 5.8, 8.4, 6.7, 4.4, 6.2, 7.5, 2.3, 3.0, 1.0, 6.0, 5.5, 8.2, 6.5, 5.1, 9.4, 5.7, 7.3, 9.9, 4.8, 8.7, 4.6, 2.9, 9.8, 8.1, 0.0, 7.8, 7.5, 1.9, 0.7, 5.1, 4.1, 0.2]"
      ]
    },
    {
      "cell_type": "code",
      "execution_count": 30,
      "metadata": {
        "id": "6oMmkWiUfEp4"
      },
      "outputs": [],
      "source": [
        "# YOUR CHANGES HERE\n",
        "\n",
        "p7 = np.mean(q7)"
      ]
    },
    {
      "cell_type": "code",
      "execution_count": 31,
      "metadata": {
        "id": "Q1Nt7O7SfFjq"
      },
      "outputs": [
        {
          "data": {
            "text/plain": [
              "np.float64(5.430000000000002)"
            ]
          },
          "execution_count": 31,
          "metadata": {},
          "output_type": "execute_result"
        }
      ],
      "source": [
        "p7"
      ]
    },
    {
      "cell_type": "markdown",
      "metadata": {
        "id": "F9YyQYNge2vw"
      },
      "source": [
        "### Problem 8\n",
        "\n",
        "Set `p8` to be the variance of the values in `q8` using NumPy.\n",
        "Do not use the sample correction."
      ]
    },
    {
      "cell_type": "code",
      "execution_count": 32,
      "metadata": {
        "id": "EkqvqcYte5jf"
      },
      "outputs": [],
      "source": [
        "q8 = [3.9, 1.0, 2.4, 1.5, 2.2, 0.0, 2.9, 2.6, 0.7, 0.3, 1.6, 7.9, 0.3, 4.7, 7.6, 0.0, 5.5, 0.2, 1.8, 2.1, 2.5, 4.1, 1.0, 3.9, 7.0, 7.7, 2.1, 6.0, 7.6, 4.8, 5.9, 6.0, 1.5, 4.1, 1.8, 8.8, 7.4, 0.3, 9.7, 0.7, 0.3, 3.0, 4.0, 1.5, 7.4, 2.0, 9.5, 0.4, 2.8, 6.9, 7.6, 0.6, 7.1, 7.3, 9.0, 1.7, 0.1, 0.9, 4.2, 5.0, 1.4, 1.0, 9.7, 6.5, 9.9, 1.7, 2.7, 7.6, 7.9, 8.0, 2.7, 9.2, 3.5, 6.6, 7.8, 1.8, 6.9, 8.2, 0.2, 9.9, 2.1, 2.3, 1.5, 6.3, 5.3, 9.6, 4.6, 1.6, 2.0, 5.1, 0.4, 8.2, 4.7, 1.6, 8.5, 8.6, 7.6, 2.3, 0.1, 0.9]"
      ]
    },
    {
      "cell_type": "code",
      "execution_count": 33,
      "metadata": {
        "id": "igUmqtMQe6hJ"
      },
      "outputs": [],
      "source": [
        "# YOUR CHANGES HERE\n",
        "\n",
        "p8 = np.var(q8)"
      ]
    },
    {
      "cell_type": "code",
      "execution_count": 34,
      "metadata": {
        "id": "mUe4FF5Se75r"
      },
      "outputs": [
        {
          "data": {
            "text/plain": [
              "np.float64(9.585099)"
            ]
          },
          "execution_count": 34,
          "metadata": {},
          "output_type": "execute_result"
        }
      ],
      "source": [
        "p8"
      ]
    },
    {
      "cell_type": "markdown",
      "metadata": {
        "id": "OR90MqSoetVp"
      },
      "source": [
        "### Problem 9\n",
        "\n",
        "Set `p9` to be the 10th percentile of `q9` using NumPy."
      ]
    },
    {
      "cell_type": "code",
      "execution_count": 35,
      "metadata": {
        "id": "QWuvwSmYexVG"
      },
      "outputs": [],
      "source": [
        "q9 = [9.2, 5.9, 2.3, 1.1, 3.9, 5.8, 1.1, 2.4, 9.3, 4.9, 0.3, 4.8, 9.3, 5.3, 9.6, 2.3, 1.2, 8.5, 7.0, 5.9, 8.6, 6.2, 4.0, 7.8, 0.5, 5.4, 5.1, 6.3, 4.5, 4.1, 1.4, 5.3, 2.7, 4.7, 8.9, 0.0, 9.3, 6.0, 5.8, 5.1, 0.1, 3.7, 4.3, 3.8, 0.1, 1.4, 2.9, 0.1, 6.7, 1.4, 7.7, 6.3, 8.6, 6.1, 4.2, 5.5, 4.5, 5.2, 5.5, 7.3, 3.3, 6.8, 6.1, 8.4, 5.8, 7.0, 1.5, 9.0, 8.0, 5.8, 1.2, 7.3, 6.0, 8.4, 1.0, 3.4, 0.4, 7.9, 6.9, 4.8, 2.6, 6.0, 2.7, 4.0, 9.8, 1.3, 4.3, 4.9, 0.4, 4.6, 5.4, 9.8, 3.2, 7.7, 5.4, 6.8, 1.5, 0.0, 3.0, 1.6]"
      ]
    },
    {
      "cell_type": "code",
      "execution_count": 36,
      "metadata": {
        "id": "BCZYs_N2ey1_"
      },
      "outputs": [],
      "source": [
        "# YOUR CHANGES HERE\n",
        "\n",
        "p9 = np.percentile(q9, 10)"
      ]
    },
    {
      "cell_type": "code",
      "execution_count": 37,
      "metadata": {
        "id": "FEPngBx6e8k6"
      },
      "outputs": [
        {
          "data": {
            "text/plain": [
              "np.float64(1.09)"
            ]
          },
          "execution_count": 37,
          "metadata": {},
          "output_type": "execute_result"
        }
      ],
      "source": [
        "p9"
      ]
    },
    {
      "cell_type": "markdown",
      "metadata": {
        "id": "yhNUgVuyef3I"
      },
      "source": [
        "### Problem 10\n",
        "\n",
        "Set `p10` to be the standard deviation of `q10`.\n",
        "Do not use the sample correction."
      ]
    },
    {
      "cell_type": "code",
      "execution_count": 38,
      "metadata": {
        "id": "80WQqm6IelO5"
      },
      "outputs": [],
      "source": [
        "q10 = np.array([8.5, 8.5, 8.4, 7.8, 0.4, 6.3, 8.8, 7.9, 0.6, 4.1, 1.7, 3.4, 9.3, 6.7, 0.7, 7.8, 6.5, 9.0, 3.5, 6.5, 6.3, 9.6, 3.2, 7.8, 0.4, 3.3, 6.7, 5.2, 7.3, 8.0, 3.2, 1.4, 2.7, 8.2, 4.4, 0.0, 6.4, 0.1, 1.0, 6.9, 0.4, 2.8, 2.8, 5.6, 5.0, 0.2, 9.6, 9.0, 1.1, 9.1, 8.3, 2.0, 9.0, 2.2, 1.0, 0.8, 0.1, 0.2, 8.8, 9.1, 8.0, 3.9, 5.9, 2.2, 3.7, 3.9, 8.3, 0.5, 3.1, 5.7, 1.7, 8.9, 6.8, 0.5, 3.1, 9.8, 2.1, 5.8, 2.6, 0.9, 0.9, 2.7, 1.0, 8.9, 5.2, 8.6, 6.3, 9.7, 5.9, 1.1, 8.1, 5.1, 2.8, 8.4, 1.3, 2.9, 3.8, 7.7, 2.8, 8.1])"
      ]
    },
    {
      "cell_type": "code",
      "execution_count": 39,
      "metadata": {
        "id": "2ChVARuAt3c0"
      },
      "outputs": [
        {
          "data": {
            "text/plain": [
              "array([8.5, 8.5, 8.4, 7.8, 0.4, 6.3, 8.8, 7.9, 0.6, 4.1, 1.7, 3.4, 9.3,\n",
              "       6.7, 0.7, 7.8, 6.5, 9. , 3.5, 6.5, 6.3, 9.6, 3.2, 7.8, 0.4, 3.3,\n",
              "       6.7, 5.2, 7.3, 8. , 3.2, 1.4, 2.7, 8.2, 4.4, 0. , 6.4, 0.1, 1. ,\n",
              "       6.9, 0.4, 2.8, 2.8, 5.6, 5. , 0.2, 9.6, 9. , 1.1, 9.1, 8.3, 2. ,\n",
              "       9. , 2.2, 1. , 0.8, 0.1, 0.2, 8.8, 9.1, 8. , 3.9, 5.9, 2.2, 3.7,\n",
              "       3.9, 8.3, 0.5, 3.1, 5.7, 1.7, 8.9, 6.8, 0.5, 3.1, 9.8, 2.1, 5.8,\n",
              "       2.6, 0.9, 0.9, 2.7, 1. , 8.9, 5.2, 8.6, 6.3, 9.7, 5.9, 1.1, 8.1,\n",
              "       5.1, 2.8, 8.4, 1.3, 2.9, 3.8, 7.7, 2.8, 8.1])"
            ]
          },
          "execution_count": 39,
          "metadata": {},
          "output_type": "execute_result"
        }
      ],
      "source": [
        "q10"
      ]
    },
    {
      "cell_type": "code",
      "execution_count": 40,
      "metadata": {
        "id": "dwRnhLTfema5"
      },
      "outputs": [],
      "source": [
        "# YOUR CHANGES HERE\n",
        "\n",
        "p10 = np.std(q10)"
      ]
    },
    {
      "cell_type": "code",
      "execution_count": 41,
      "metadata": {
        "id": "AFa9vFs6e9XK"
      },
      "outputs": [
        {
          "data": {
            "text/plain": [
              "np.float64(3.1407723572395376)"
            ]
          },
          "execution_count": 41,
          "metadata": {},
          "output_type": "execute_result"
        }
      ],
      "source": [
        "p10"
      ]
    },
    {
      "cell_type": "markdown",
      "metadata": {
        "id": "di5HEzu1l0MN"
      },
      "source": [
        "### Problem 11\n",
        "\n",
        "Set `p11` to be the average of the \"rated_flavor\" column of `q11` using NumPy."
      ]
    },
    {
      "cell_type": "code",
      "execution_count": 42,
      "metadata": {
        "id": "QzuSFnIwsiuf"
      },
      "outputs": [],
      "source": [
        "q11 = pd.read_csv(\"f11.tsv\", sep=\"\\t\")"
      ]
    },
    {
      "cell_type": "code",
      "execution_count": 43,
      "metadata": {
        "id": "ZfCzrSiLsn7C"
      },
      "outputs": [
        {
          "data": {
            "text/html": [
              "<div>\n",
              "<style scoped>\n",
              "    .dataframe tbody tr th:only-of-type {\n",
              "        vertical-align: middle;\n",
              "    }\n",
              "\n",
              "    .dataframe tbody tr th {\n",
              "        vertical-align: top;\n",
              "    }\n",
              "\n",
              "    .dataframe thead th {\n",
              "        text-align: right;\n",
              "    }\n",
              "</style>\n",
              "<table border=\"1\" class=\"dataframe\">\n",
              "  <thead>\n",
              "    <tr style=\"text-align: right;\">\n",
              "      <th></th>\n",
              "      <th>green_rating</th>\n",
              "      <th>yellow_rating</th>\n",
              "      <th>softness</th>\n",
              "      <th>wrinkles</th>\n",
              "      <th>estimated_flavor</th>\n",
              "      <th>estimated_sweetness</th>\n",
              "      <th>rated_flavor</th>\n",
              "    </tr>\n",
              "  </thead>\n",
              "  <tbody>\n",
              "    <tr>\n",
              "      <th>0</th>\n",
              "      <td>1</td>\n",
              "      <td>5</td>\n",
              "      <td>4</td>\n",
              "      <td>0</td>\n",
              "      <td>4</td>\n",
              "      <td>4</td>\n",
              "      <td>5</td>\n",
              "    </tr>\n",
              "    <tr>\n",
              "      <th>1</th>\n",
              "      <td>1</td>\n",
              "      <td>5</td>\n",
              "      <td>5</td>\n",
              "      <td>1</td>\n",
              "      <td>5</td>\n",
              "      <td>5</td>\n",
              "      <td>1</td>\n",
              "    </tr>\n",
              "    <tr>\n",
              "      <th>2</th>\n",
              "      <td>2</td>\n",
              "      <td>4</td>\n",
              "      <td>3</td>\n",
              "      <td>1</td>\n",
              "      <td>3</td>\n",
              "      <td>3</td>\n",
              "      <td>3</td>\n",
              "    </tr>\n",
              "    <tr>\n",
              "      <th>3</th>\n",
              "      <td>3</td>\n",
              "      <td>3</td>\n",
              "      <td>2</td>\n",
              "      <td>0</td>\n",
              "      <td>2</td>\n",
              "      <td>1</td>\n",
              "      <td>2</td>\n",
              "    </tr>\n",
              "    <tr>\n",
              "      <th>4</th>\n",
              "      <td>4</td>\n",
              "      <td>1</td>\n",
              "      <td>1</td>\n",
              "      <td>0</td>\n",
              "      <td>1</td>\n",
              "      <td>1</td>\n",
              "      <td>1</td>\n",
              "    </tr>\n",
              "    <tr>\n",
              "      <th>5</th>\n",
              "      <td>3</td>\n",
              "      <td>2</td>\n",
              "      <td>2</td>\n",
              "      <td>1</td>\n",
              "      <td>2</td>\n",
              "      <td>2</td>\n",
              "      <td>2</td>\n",
              "    </tr>\n",
              "  </tbody>\n",
              "</table>\n",
              "</div>"
            ],
            "text/plain": [
              "   green_rating  yellow_rating  softness  wrinkles  estimated_flavor  \\\n",
              "0             1              5         4         0                 4   \n",
              "1             1              5         5         1                 5   \n",
              "2             2              4         3         1                 3   \n",
              "3             3              3         2         0                 2   \n",
              "4             4              1         1         0                 1   \n",
              "5             3              2         2         1                 2   \n",
              "\n",
              "   estimated_sweetness  rated_flavor  \n",
              "0                    4             5  \n",
              "1                    5             1  \n",
              "2                    3             3  \n",
              "3                    1             2  \n",
              "4                    1             1  \n",
              "5                    2             2  "
            ]
          },
          "execution_count": 43,
          "metadata": {},
          "output_type": "execute_result"
        }
      ],
      "source": [
        "q11"
      ]
    },
    {
      "cell_type": "code",
      "execution_count": 44,
      "metadata": {
        "id": "PEA2cZtvsoZP"
      },
      "outputs": [
        {
          "data": {
            "text/plain": [
              "0    5\n",
              "1    1\n",
              "2    3\n",
              "3    2\n",
              "4    1\n",
              "5    2\n",
              "Name: rated_flavor, dtype: int64"
            ]
          },
          "execution_count": 44,
          "metadata": {},
          "output_type": "execute_result"
        }
      ],
      "source": [
        "q11[\"rated_flavor\"]"
      ]
    },
    {
      "cell_type": "code",
      "execution_count": 45,
      "metadata": {
        "id": "Ka4qcNUcsqFD"
      },
      "outputs": [],
      "source": [
        "# YOUR CHANGES HERE\n",
        "\n",
        "p11 = np.mean(q11[\"rated_flavor\"])"
      ]
    },
    {
      "cell_type": "code",
      "execution_count": 46,
      "metadata": {
        "id": "1ZIt0Wyd34jd"
      },
      "outputs": [
        {
          "data": {
            "text/plain": [
              "np.float64(2.3333333333333335)"
            ]
          },
          "execution_count": 46,
          "metadata": {},
          "output_type": "execute_result"
        }
      ],
      "source": [
        "p11"
      ]
    },
    {
      "cell_type": "markdown",
      "metadata": {
        "id": "ZxBfgs25l04Q"
      },
      "source": [
        "### Problem 12\n",
        "\n",
        "Set `p12` to be the sample standard deviation of `q12`.\n",
        "Make sure to use the sample correction."
      ]
    },
    {
      "cell_type": "code",
      "execution_count": 47,
      "metadata": {
        "id": "yYVbljuwxayY"
      },
      "outputs": [],
      "source": [
        "q12 = [0.7, 2.2, 4.3, 3.0, 5.2, 0.0, 0.3, 4.8, 9.9, 5.4, 2.9, 9.9, 2.9, 6.7, 0.3, 2.4, 8.2, 9.5, 0.9, 8.6, 6.1, 1.5, 5.7, 4.7, 2.6, 2.4, 8.6, 0.5, 4.9, 2.6, 3.6, 1.6, 8.1, 0.6, 4.2, 6.7, 2.3, 3.1, 1.6, 2.2, 0.1, 1.9, 1.0, 7.1, 3.1, 2.2, 7.4, 8.8, 6.8, 3.8, 0.3, 0.1, 8.6, 5.4, 4.5, 2.1, 8.6, 7.6, 7.5, 9.6, 4.1, 7.9, 1.6, 1.0, 1.9, 3.9, 9.4, 4.2, 5.5, 9.4, 0.7, 2.7, 6.2, 9.1, 5.5, 0.5, 7.2, 0.8, 5.7, 7.2, 6.3, 1.1, 3.4, 4.0, 0.4, 4.0, 7.7, 7.4, 5.7, 5.5, 4.5, 2.1, 4.8, 0.6, 5.0, 9.6, 7.9, 7.5, 7.3, 8.6]"
      ]
    },
    {
      "cell_type": "code",
      "execution_count": 48,
      "metadata": {
        "id": "pOLT-TLyxoCv"
      },
      "outputs": [],
      "source": [
        "# YOUR CHANGES HERE\n",
        "\n",
        "p12 = np.std(q12, ddof = 1)"
      ]
    },
    {
      "cell_type": "code",
      "execution_count": 49,
      "metadata": {
        "id": "LYBv91yk35a2"
      },
      "outputs": [
        {
          "data": {
            "text/plain": [
              "np.float64(2.966203402712401)"
            ]
          },
          "execution_count": 49,
          "metadata": {},
          "output_type": "execute_result"
        }
      ],
      "source": [
        "p12"
      ]
    },
    {
      "cell_type": "markdown",
      "metadata": {
        "id": "4GJWvkoPl1Vn"
      },
      "source": [
        "### Problem 13\n",
        "\n",
        "Set `p13` to the result of loading the file \"f13.tsv\" using the pandas `read_csv` function.\n",
        "\n",
        "https://pandas.pydata.org/pandas-docs/stable/reference/api/pandas.read_csv.html"
      ]
    },
    {
      "cell_type": "code",
      "execution_count": 50,
      "metadata": {
        "id": "zXAxW9CBnTCT"
      },
      "outputs": [],
      "source": [
        "# YOUR CHANGES HERE\n",
        "\n",
        "p13 = pd.read_csv(\"f13.tsv\", sep=\"\\t\")"
      ]
    },
    {
      "cell_type": "code",
      "execution_count": 51,
      "metadata": {
        "id": "5_OVfYc5nu_n"
      },
      "outputs": [
        {
          "data": {
            "text/html": [
              "<div>\n",
              "<style scoped>\n",
              "    .dataframe tbody tr th:only-of-type {\n",
              "        vertical-align: middle;\n",
              "    }\n",
              "\n",
              "    .dataframe tbody tr th {\n",
              "        vertical-align: top;\n",
              "    }\n",
              "\n",
              "    .dataframe thead th {\n",
              "        text-align: right;\n",
              "    }\n",
              "</style>\n",
              "<table border=\"1\" class=\"dataframe\">\n",
              "  <thead>\n",
              "    <tr style=\"text-align: right;\">\n",
              "      <th></th>\n",
              "      <th>green_rating</th>\n",
              "      <th>yellow_rating</th>\n",
              "      <th>softness</th>\n",
              "      <th>wrinkles</th>\n",
              "    </tr>\n",
              "  </thead>\n",
              "  <tbody>\n",
              "    <tr>\n",
              "      <th>0</th>\n",
              "      <td>1</td>\n",
              "      <td>5</td>\n",
              "      <td>4</td>\n",
              "      <td>0</td>\n",
              "    </tr>\n",
              "    <tr>\n",
              "      <th>1</th>\n",
              "      <td>1</td>\n",
              "      <td>5</td>\n",
              "      <td>5</td>\n",
              "      <td>1</td>\n",
              "    </tr>\n",
              "    <tr>\n",
              "      <th>2</th>\n",
              "      <td>2</td>\n",
              "      <td>4</td>\n",
              "      <td>3</td>\n",
              "      <td>1</td>\n",
              "    </tr>\n",
              "    <tr>\n",
              "      <th>3</th>\n",
              "      <td>3</td>\n",
              "      <td>3</td>\n",
              "      <td>2</td>\n",
              "      <td>0</td>\n",
              "    </tr>\n",
              "    <tr>\n",
              "      <th>4</th>\n",
              "      <td>4</td>\n",
              "      <td>1</td>\n",
              "      <td>1</td>\n",
              "      <td>0</td>\n",
              "    </tr>\n",
              "    <tr>\n",
              "      <th>5</th>\n",
              "      <td>3</td>\n",
              "      <td>2</td>\n",
              "      <td>2</td>\n",
              "      <td>1</td>\n",
              "    </tr>\n",
              "  </tbody>\n",
              "</table>\n",
              "</div>"
            ],
            "text/plain": [
              "   green_rating  yellow_rating  softness  wrinkles\n",
              "0             1              5         4         0\n",
              "1             1              5         5         1\n",
              "2             2              4         3         1\n",
              "3             3              3         2         0\n",
              "4             4              1         1         0\n",
              "5             3              2         2         1"
            ]
          },
          "execution_count": 51,
          "metadata": {},
          "output_type": "execute_result"
        }
      ],
      "source": [
        "p13"
      ]
    },
    {
      "cell_type": "markdown",
      "metadata": {
        "id": "eiVB6om2lzm-"
      },
      "source": [
        "### Problem 14\n",
        "\n",
        "Set `p14` to be a NumPy array with the 25th and 75th percentile quantiles of `q14`.\n",
        "\n",
        "Check the NumPy documentation about computing multiple quantiles at once.\n",
        "\n",
        "https://numpy.org/doc/stable/reference/generated/numpy.quantile.html"
      ]
    },
    {
      "cell_type": "code",
      "execution_count": 52,
      "metadata": {
        "id": "KfiVglHkxM7K"
      },
      "outputs": [],
      "source": [
        "q14 = [7.0, 5.9, 0.9, 6.4, 9.2, 8.0, 8.9, 3.6, 1.8, 1.4, 1.5, 0.0, 6.0, 6.7, 1.4, 5.6, 9.4, 8.4, 1.6, 1.4, 9.2, 2.7, 0.5, 5.2, 5.2, 7.3, 4.3, 7.8, 2.2, 7.3, 7.5, 6.3, 0.4, 3.0, 5.3, 9.5, 6.3, 5.5, 5.7, 6.0, 3.6, 4.6, 9.0, 8.0, 2.8, 6.4, 6.2, 8.3, 3.5, 3.8, 2.1, 3.0, 6.7, 6.9, 6.8, 7.0, 0.7, 9.7, 2.2, 7.1, 2.8, 7.3, 2.9, 9.8, 0.3, 3.8, 1.6, 3.9, 8.7, 5.6, 2.6, 7.5, 6.1, 1.6, 5.1, 5.2, 5.1, 8.0, 9.6, 1.5, 5.7, 8.9, 1.1, 7.4, 6.0, 1.8, 2.5, 4.9, 2.0, 5.4, 5.8, 6.1, 0.1, 0.2, 0.0, 6.8, 9.7, 1.5, 0.9, 9.8]"
      ]
    },
    {
      "cell_type": "code",
      "execution_count": 53,
      "metadata": {
        "id": "vyYWk0h8xP1_"
      },
      "outputs": [],
      "source": [
        "# YOUR CHANGES HERE\n",
        "\n",
        "p14 = np.array([np.percentile(q14, 25), np.percentile(q14, 75)])"
      ]
    },
    {
      "cell_type": "code",
      "execution_count": 54,
      "metadata": {
        "id": "uPrGJXcL36qh"
      },
      "outputs": [
        {
          "data": {
            "text/plain": [
              "array([2.2 , 7.15])"
            ]
          },
          "execution_count": 54,
          "metadata": {},
          "output_type": "execute_result"
        }
      ],
      "source": [
        "p14"
      ]
    },
    {
      "cell_type": "markdown",
      "metadata": {
        "id": "xGksygaLlzAJ"
      },
      "source": [
        "### Problem 15\n",
        "\n",
        "Set `p15` to be maximum of `q15`."
      ]
    },
    {
      "cell_type": "code",
      "execution_count": 55,
      "metadata": {
        "id": "TQIJvIa95U9r"
      },
      "outputs": [],
      "source": [
        "q15 = [5.8, 5.1, 4.0, 2.6, 6.5, 7.6, 2.3, 6.0, 5.4, 8.6, 7.4, 6.6, 0.9, 8.7, 8.1, 3.2, 0.1, 5.8, 0.3, 1.8, 8.3, 4.3, 1.5, 6.0, 1.2, 4.3, 5.6, 4.8, 0.5, 9.8, 3.8, 9.5, 8.2, 1.0, 4.9, 8.8, 1.2, 2.4, 7.4, 7.1, 7.7, 8.1, 6.3, 2.5, 5.4, 0.2, 0.4, 7.1, 2.8, 0.5, 8.2, 4.1, 7.1, 8.4, 0.2, 3.4, 1.1, 3.8, 9.6, 4.6, 1.6, 1.5, 0.1, 9.2, 8.1, 6.6, 8.1, 2.5, 9.6, 8.6, 3.7, 9.7, 0.4, 8.3, 4.4, 2.3, 7.0, 6.2, 5.1, 1.9, 6.3, 0.6, 8.8, 4.6, 4.8, 0.4, 7.6, 1.4, 7.8, 2.2, 0.0, 7.3, 1.0, 3.0, 9.0, 6.1, 6.3, 6.6, 2.8, 5.4]"
      ]
    },
    {
      "cell_type": "code",
      "execution_count": 56,
      "metadata": {
        "id": "Gi5APn-l5bS4"
      },
      "outputs": [],
      "source": [
        "# YOUR CHANGES HERE\n",
        "\n",
        "p15 = np.max(q15)"
      ]
    },
    {
      "cell_type": "code",
      "execution_count": 57,
      "metadata": {
        "id": "zOLSgNNh37ea"
      },
      "outputs": [
        {
          "data": {
            "text/plain": [
              "np.float64(9.8)"
            ]
          },
          "execution_count": 57,
          "metadata": {},
          "output_type": "execute_result"
        }
      ],
      "source": [
        "p15"
      ]
    },
    {
      "cell_type": "markdown",
      "metadata": {
        "id": "zPaFx58ylwxd"
      },
      "source": [
        "### Problem 16\n",
        "\n",
        "Set `p16` to be the sum of `q16`."
      ]
    },
    {
      "cell_type": "code",
      "execution_count": 58,
      "metadata": {
        "id": "m361-ZTiwOpS"
      },
      "outputs": [],
      "source": [
        "q16 = [0.8, 6.5, 8.2, 5.3, 7.8, 9.4, 4.0, 0.0, 9.4, 4.4, 2.2, 4.3, 8.5, 5.0, 5.2, 0.7, 2.1, 0.2, 6.9, 6.6, 2.1, 8.7, 5.5, 2.9, 4.9, 7.6, 3.2, 9.0, 2.8, 4.7, 7.0, 4.1, 4.1, 4.0, 8.9, 7.6, 6.4, 5.3, 6.3, 7.1, 4.1, 7.5, 0.9, 6.0, 9.1, 8.7, 8.9, 7.6, 6.8, 7.4, 0.4, 0.8, 3.6, 6.8, 2.9, 8.1, 7.6, 0.5, 1.7, 4.1, 6.2, 9.0, 3.1, 4.5, 5.4, 5.5, 1.0, 5.1, 8.7, 9.0, 2.4, 0.9, 0.7, 2.4, 1.2, 7.0, 1.1, 5.5, 1.6, 8.9, 5.3, 6.2, 0.0, 8.9, 3.2, 3.4, 2.8, 0.7, 4.7, 6.3, 5.5, 0.8, 1.2, 6.6, 7.3, 6.1, 3.5, 5.9, 3.9, 2.6]"
      ]
    },
    {
      "cell_type": "code",
      "execution_count": 59,
      "metadata": {
        "id": "G64p65j6wTdj"
      },
      "outputs": [],
      "source": [
        "# YOUR CHANGES HERE\n",
        "\n",
        "p16 = np.sum(q16)"
      ]
    },
    {
      "cell_type": "markdown",
      "metadata": {
        "id": "kDpKORlSlydB"
      },
      "source": [
        "### Problem 17\n",
        "\n",
        "Set `p17` to the average of `q17`."
      ]
    },
    {
      "cell_type": "code",
      "execution_count": 60,
      "metadata": {
        "id": "_zJpPZo3mB6U"
      },
      "outputs": [],
      "source": [
        "q17 = [59, 99, 2, 67, 77, 73, 7, 15, 73, 43, 92, 4, 55, 87, 66, 49, 0, 64, 57, 76, 96, 83, 23, 25, 55, 75, 62, 41, 83, 34, 27, 26, 91, 3, 36, 77, 64, 90, 61, 16, 92, 72, 34, 12, 83, 41, 40, 55, 16, 47, 60, 67, 89, 96, 52, 10, 92, 4, 52, 60, 27, 98, 69, 44, 87, 31, 47, 47, 72, 12, 12, 29, 61, 15, 84, 48, 3, 31, 77, 67, 86, 61, 5, 25, 46, 87, 39, 90, 2, 41, 89, 3, 98, 54, 88, 33, 71, 53, 63, 15]"
      ]
    },
    {
      "cell_type": "code",
      "execution_count": 61,
      "metadata": {
        "id": "CjezNpLcmNEY"
      },
      "outputs": [],
      "source": [
        "# YOUR CHANGES HERE\n",
        "\n",
        "p17 = np.mean(q17)"
      ]
    },
    {
      "cell_type": "markdown",
      "metadata": {
        "id": "pBlKuOqplu_p"
      },
      "source": [
        "### Problem 18\n",
        "\n",
        "Set `p18` to be the contents of the file \"f18.tsv\" using the pandas read_csv function."
      ]
    },
    {
      "cell_type": "code",
      "execution_count": 62,
      "metadata": {
        "id": "1CZgmgqWvqYx"
      },
      "outputs": [],
      "source": [
        "# YOUR CHANGES HERE\n",
        "\n",
        "p18 = pd.read_csv(\"f18.tsv\", sep=\"\\t\")"
      ]
    },
    {
      "cell_type": "markdown",
      "metadata": {
        "id": "MfBPH1nAlr2G"
      },
      "source": [
        "### Problem 19\n",
        "\n",
        "Set `p19` to be the standard deviation of `q19`."
      ]
    },
    {
      "cell_type": "code",
      "execution_count": 63,
      "metadata": {
        "id": "G5V0pUbGv0Ef"
      },
      "outputs": [],
      "source": [
        "q19 = [6.6, 0.2, 8.2, 6.4, 9.5, 0.4, 5.5, 5.7, 1.3, 1.4, 6.0, 1.3, 9.5, 1.8, 4.7, 0.9, 6.7, 4.2, 7.9, 6.2, 7.6, 0.5, 9.1, 7.6, 4.2, 9.8, 2.4, 5.6, 6.7, 1.2, 1.8, 4.4, 4.3, 9.1, 8.4, 6.6, 6.2, 2.4, 9.3, 2.4, 0.6, 4.5, 4.1, 5.5, 8.6, 4.4, 8.1, 9.6, 8.4, 8.6, 5.2, 9.6, 6.4, 7.3, 1.7, 3.9, 6.7, 1.2, 8.2, 2.6, 6.5, 7.6, 0.6, 1.4, 0.5, 2.3, 4.8, 3.9, 2.9, 1.6, 1.4, 5.5, 5.6, 6.7, 6.8, 7.3, 4.9, 2.1, 0.4, 4.3, 9.3, 1.1, 1.9, 7.9, 7.9, 6.8, 0.8, 1.9, 9.9, 5.8, 6.2, 1.5, 1.1, 2.8, 1.2, 2.8, 5.4, 1.0, 6.5, 8.6]"
      ]
    },
    {
      "cell_type": "code",
      "execution_count": 64,
      "metadata": {
        "id": "MRirAncKv3Nv"
      },
      "outputs": [],
      "source": [
        "# YOUR CHANGES HERE\n",
        "\n",
        "p19 = np.std(q19)"
      ]
    },
    {
      "cell_type": "markdown",
      "metadata": {
        "id": "8Tzcl4xnlqIt"
      },
      "source": [
        "### Problem 20\n",
        "\n",
        "Set `p20` to the average of the \"red\" column in the file \"colors.tsv\"."
      ]
    },
    {
      "cell_type": "code",
      "execution_count": 68,
      "metadata": {
        "id": "Br_uppxGv6pH"
      },
      "outputs": [],
      "source": [
        "# YOUR CHANGES HERE\n",
        "\n",
        "colors = pd.read_csv(\"colors.tsv\", sep=\"\\t\")\n",
        "p20 = np.mean(colors[\"red\"])"
      ]
    },
    {
      "cell_type": "markdown",
      "metadata": {},
      "source": [
        "### Generative AI Usage\n",
        "\n",
        "If you used any generative AI tools, please add links to your transcripts below, and any other information that you feel is necessary to comply with the [generative AI policy](https://www.bu.edu/cds-faculty/culture-community/gaia-policy/).\n",
        "If you did not use any generative AI tools, simply write NONE below."
      ]
    },
    {
      "cell_type": "markdown",
      "metadata": {},
      "source": [
        "NONE"
      ]
    }
  ],
  "metadata": {
    "colab": {
      "toc_visible": false
    },
    "kernelspec": {
      "display_name": "Python 3",
      "name": "python3"
    },
    "language_info": {
      "codemirror_mode": {
        "name": "ipython",
        "version": 3
      },
      "file_extension": ".py",
      "mimetype": "text/x-python",
      "name": "python",
      "nbconvert_exporter": "python",
      "pygments_lexer": "ipython3",
      "version": "3.12.1"
    }
  },
  "nbformat": 4,
  "nbformat_minor": 0
}
